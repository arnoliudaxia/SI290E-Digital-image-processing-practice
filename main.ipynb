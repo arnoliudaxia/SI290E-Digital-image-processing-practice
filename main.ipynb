{
 "cells": [
  {
   "cell_type": "code",
   "execution_count": 5,
   "metadata": {},
   "outputs": [
    {
     "name": "stdout",
     "output_type": "stream",
     "text": [
      "计算指标 780.png\n",
      "MAE: 51.217413\n",
      "GMSD: 0.1560112374784351\n",
      "计算指标 776.png\n",
      "MAE: 74.472929\n",
      "GMSD: 0.19594272581369052\n",
      "计算指标 1.png\n",
      "MAE: 100.742658\n",
      "GMSD: 0.19048341882579814\n",
      "计算指标 748.png\n",
      "MAE: 79.822733\n",
      "GMSD: 0.1946926972557426\n",
      "计算指标 497.png\n",
      "MAE: 90.548292\n",
      "GMSD: 0.25613347874477554\n"
     ]
    }
   ],
   "source": [
    "from metrics import metrics\n",
    "\n",
    "import os\n",
    "\n",
    "image_dir = 'images'\n",
    "gt_dir = 'gt'\n",
    "\n",
    "for filename in os.listdir(image_dir):\n",
    "    if filename.endswith(\".png\") or filename.endswith(\".jpg\"):\n",
    "        img_path = os.path.join(image_dir, filename)\n",
    "        gt_path = os.path.join(gt_dir, filename)\n",
    "        if os.path.exists(gt_path):\n",
    "            print(f\"计算指标 {filename}\")\n",
    "            metrics(img_path, gt_path, \"MAE\")\n",
    "            metrics(img_path, gt_path, \"GMSD\")\n",
    "        else:\n",
    "            print(f\"警告：找不到对应的gt图片 {filename}\")"
   ]
  }
 ],
 "metadata": {
  "kernelspec": {
   "display_name": ".venv",
   "language": "python",
   "name": "python3"
  },
  "language_info": {
   "codemirror_mode": {
    "name": "ipython",
    "version": 3
   },
   "file_extension": ".py",
   "mimetype": "text/x-python",
   "name": "python",
   "nbconvert_exporter": "python",
   "pygments_lexer": "ipython3",
   "version": "3.12.3"
  }
 },
 "nbformat": 4,
 "nbformat_minor": 2
}
